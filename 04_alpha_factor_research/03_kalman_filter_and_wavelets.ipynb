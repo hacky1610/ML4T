{
 "cells": [
  {
   "cell_type": "markdown",
   "metadata": {},
   "source": [
    "# How to use the Kalman Filter and Wavelets"
   ]
  },
  {
   "cell_type": "markdown",
   "metadata": {},
   "source": [
    "## Imports & Settings"
   ]
  },
  {
   "cell_type": "code",
   "execution_count": 1,
   "metadata": {
    "ExecuteTime": {
     "end_time": "2021-04-15T19:43:39.382763Z",
     "start_time": "2021-04-15T19:43:39.379671Z"
    }
   },
   "outputs": [],
   "source": [
    "import warnings\n",
    "warnings.filterwarnings('ignore')"
   ]
  },
  {
   "cell_type": "code",
   "execution_count": 2,
   "metadata": {
    "ExecuteTime": {
     "end_time": "2021-04-15T19:43:39.894161Z",
     "start_time": "2021-04-15T19:43:39.386933Z"
    }
   },
   "outputs": [
    {
     "ename": "ModuleNotFoundError",
     "evalue": "No module named 'pykalman'",
     "output_type": "error",
     "traceback": [
      "\u001b[0;31m---------------------------------------------------------------------------\u001b[0m",
      "\u001b[0;31mModuleNotFoundError\u001b[0m                       Traceback (most recent call last)",
      "Cell \u001b[0;32mIn[2], line 8\u001b[0m\n\u001b[1;32m      6\u001b[0m \u001b[38;5;28;01mimport\u001b[39;00m \u001b[38;5;21;01mpandas\u001b[39;00m \u001b[38;5;28;01mas\u001b[39;00m \u001b[38;5;21;01mpd\u001b[39;00m\n\u001b[1;32m      7\u001b[0m \u001b[38;5;28;01mimport\u001b[39;00m \u001b[38;5;21;01mpandas_datareader\u001b[39;00m\u001b[38;5;21;01m.\u001b[39;00m\u001b[38;5;21;01mdata\u001b[39;00m \u001b[38;5;28;01mas\u001b[39;00m \u001b[38;5;21;01mweb\u001b[39;00m\n\u001b[0;32m----> 8\u001b[0m \u001b[38;5;28;01mfrom\u001b[39;00m \u001b[38;5;21;01mpykalman\u001b[39;00m \u001b[38;5;28;01mimport\u001b[39;00m KalmanFilter\n\u001b[1;32m      9\u001b[0m \u001b[38;5;28;01mimport\u001b[39;00m \u001b[38;5;21;01mpywt\u001b[39;00m\n\u001b[1;32m     11\u001b[0m \u001b[38;5;28;01mimport\u001b[39;00m \u001b[38;5;21;01mmatplotlib\u001b[39;00m\u001b[38;5;21;01m.\u001b[39;00m\u001b[38;5;21;01mpyplot\u001b[39;00m \u001b[38;5;28;01mas\u001b[39;00m \u001b[38;5;21;01mplt\u001b[39;00m\n",
      "\u001b[0;31mModuleNotFoundError\u001b[0m: No module named 'pykalman'"
     ]
    }
   ],
   "source": [
    "%matplotlib inline\n",
    "\n",
    "from datetime import datetime\n",
    "import itertools\n",
    "\n",
    "import pandas as pd\n",
    "import pandas_datareader.data as web\n",
    "from pykalman import KalmanFilter\n",
    "import pywt\n",
    "\n",
    "import matplotlib.pyplot as plt\n",
    "import seaborn as sns"
   ]
  },
  {
   "cell_type": "code",
   "execution_count": null,
   "metadata": {
    "ExecuteTime": {
     "end_time": "2021-04-15T19:43:39.896975Z",
     "start_time": "2021-04-15T19:43:39.895131Z"
    }
   },
   "outputs": [],
   "source": [
    "warnings.filterwarnings('ignore')\n",
    "sns.set_style('whitegrid')\n",
    "idx = pd.IndexSlice"
   ]
  },
  {
   "cell_type": "markdown",
   "metadata": {},
   "source": [
    "## Get Data"
   ]
  },
  {
   "cell_type": "markdown",
   "metadata": {},
   "source": [
    "The `assets.h5` store can be generated using the the notebook [create_datasets](../../data/create_datasets.ipynb) in the [data](../../data) directory in the root directory of this repo for instruction to download the following dataset."
   ]
  },
  {
   "cell_type": "markdown",
   "metadata": {},
   "source": [
    "We load the Quandl stock price datasets covering the US equity markets 2000-18 using `pd.IndexSlice` to perform a slice operation on the `pd.MultiIndex`, select the adjusted close price and unpivot the column to convert the DataFrame to wide format with tickers in the columns and timestamps in the rows:"
   ]
  },
  {
   "cell_type": "markdown",
   "metadata": {},
   "source": [
    "Set data store location:"
   ]
  },
  {
   "cell_type": "code",
   "execution_count": null,
   "metadata": {
    "ExecuteTime": {
     "end_time": "2021-04-15T19:43:39.923991Z",
     "start_time": "2021-04-15T19:43:39.898308Z"
    }
   },
   "outputs": [],
   "source": [
    "DATA_STORE = '../data/assets.h5'"
   ]
  },
  {
   "cell_type": "code",
   "execution_count": null,
   "metadata": {
    "ExecuteTime": {
     "end_time": "2021-04-15T19:43:40.071612Z",
     "start_time": "2021-04-15T19:43:39.925074Z"
    }
   },
   "outputs": [],
   "source": [
    "with pd.HDFStore(DATA_STORE) as store:\n",
    "    sp500 = store['sp500/stooq'].loc['2009': '2010', 'close']"
   ]
  },
  {
   "cell_type": "markdown",
   "metadata": {},
   "source": [
    "## Kalman Filter "
   ]
  },
  {
   "cell_type": "markdown",
   "metadata": {},
   "source": [
    "### Configuration"
   ]
  },
  {
   "cell_type": "code",
   "execution_count": null,
   "metadata": {
    "ExecuteTime": {
     "end_time": "2021-04-15T19:43:40.074592Z",
     "start_time": "2021-04-15T19:43:40.072548Z"
    }
   },
   "outputs": [],
   "source": [
    "kf = KalmanFilter(transition_matrices = [1],\n",
    "                  observation_matrices = [1],\n",
    "                  initial_state_mean = 0,\n",
    "                  initial_state_covariance = 1,\n",
    "                  observation_covariance=1,\n",
    "                  transition_covariance=.01)"
   ]
  },
  {
   "cell_type": "markdown",
   "metadata": {},
   "source": [
    "### Estimate the hidden state"
   ]
  },
  {
   "cell_type": "code",
   "execution_count": null,
   "metadata": {
    "ExecuteTime": {
     "end_time": "2021-04-15T19:43:40.188011Z",
     "start_time": "2021-04-15T19:43:40.075649Z"
    }
   },
   "outputs": [],
   "source": [
    "state_means, _ = kf.filter(sp500)"
   ]
  },
  {
   "cell_type": "markdown",
   "metadata": {},
   "source": [
    "### Compare with moving average"
   ]
  },
  {
   "cell_type": "code",
   "execution_count": null,
   "metadata": {
    "ExecuteTime": {
     "end_time": "2021-04-15T19:43:40.443733Z",
     "start_time": "2021-04-15T19:43:40.188976Z"
    }
   },
   "outputs": [],
   "source": [
    "sp500_smoothed = sp500.to_frame('close')\n",
    "sp500_smoothed['Kalman Filter'] = state_means\n",
    "for months in [1,2,3]:\n",
    "    sp500_smoothed[f'MA ({months}m)'] = sp500.rolling(window=months*21).mean()\n",
    "\n",
    "ax = sp500_smoothed.plot(title='Kalman Filter vs Moving Average', figsize=(14,6), lw=1, rot=0)\n",
    "ax.set_xlabel('')\n",
    "ax.set_ylabel('S&P 500')\n",
    "plt.tight_layout()\n",
    "sns.despine();"
   ]
  },
  {
   "cell_type": "markdown",
   "metadata": {},
   "source": [
    "## Wavelets"
   ]
  },
  {
   "cell_type": "code",
   "execution_count": null,
   "metadata": {
    "ExecuteTime": {
     "end_time": "2021-04-15T19:43:40.732155Z",
     "start_time": "2021-04-15T19:43:40.444932Z"
    }
   },
   "outputs": [],
   "source": [
    "wavelet = pywt.Wavelet('db6')\n",
    "phi, psi, x = wavelet.wavefun(level=5)\n",
    "df = pd.DataFrame({'$\\phi$': phi, '$\\psi$': psi}, index=x)\n",
    "df.plot(title='Daubechies', subplots=True, layout=(1, 2), figsize=(14, 4), lw=2, rot=0)\n",
    "plt.tight_layout()\n",
    "sns.despine();"
   ]
  },
  {
   "cell_type": "code",
   "execution_count": null,
   "metadata": {
    "ExecuteTime": {
     "end_time": "2021-04-15T19:43:51.391963Z",
     "start_time": "2021-04-15T19:43:40.733093Z"
    }
   },
   "outputs": [],
   "source": [
    "plot_data = [('db', (4, 3)),\n",
    "             ('sym', (4, 3)),\n",
    "             ('coif', (3, 2))]\n",
    "\n",
    "\n",
    "for family, (rows, cols) in plot_data:\n",
    "    fig = plt.figure(figsize=(24, 12))\n",
    "    fig.subplots_adjust(hspace=0.2, wspace=0.2, bottom=.02, left=.06,\n",
    "                        right=.97, top=.94)\n",
    "    colors = itertools.cycle('bgrcmyk')\n",
    "\n",
    "    wnames = pywt.wavelist(family)\n",
    "    i = iter(wnames)\n",
    "    for col in range(cols):\n",
    "        for row in range(rows):\n",
    "            try:\n",
    "                wavelet = pywt.Wavelet(next(i))\n",
    "            except StopIteration:\n",
    "                break\n",
    "            phi, psi, x = wavelet.wavefun(level=5)\n",
    "\n",
    "            color = next(colors)\n",
    "            ax = fig.add_subplot(rows, 2 * cols, 1 + 2 * (col + row * cols))\n",
    "            ax.set_title(wavelet.name + \" phi\")\n",
    "            ax.plot(x, phi, color, lw=1)\n",
    "            ax.set_xlim(min(x), max(x))\n",
    "\n",
    "            ax = fig.add_subplot(rows, 2*cols, 1 + 2*(col + row*cols) + 1)\n",
    "            ax.set_title(wavelet.name + \" psi\")\n",
    "            ax.plot(x, psi, color, lw=1)\n",
    "            ax.set_xlim(min(x), max(x))\n",
    "    sns.despine()\n",
    "\n",
    "for family, (rows, cols) in [('bior', (4, 3)), ('rbio', (4, 3))]:\n",
    "    fig = plt.figure(figsize=(24, 12))\n",
    "    fig.subplots_adjust(hspace=0.5, wspace=0.2, bottom=.02, left=.06,\n",
    "                        right=.97, top=.94)\n",
    "\n",
    "    colors = itertools.cycle('bgrcmyk')\n",
    "    wnames = pywt.wavelist(family)\n",
    "    i = iter(wnames)\n",
    "    for col in range(cols):\n",
    "        for row in range(rows):\n",
    "            try:\n",
    "                wavelet = pywt.Wavelet(next(i))\n",
    "            except StopIteration:\n",
    "                break\n",
    "            phi, psi, phi_r, psi_r, x = wavelet.wavefun(level=5)\n",
    "            row *= 2\n",
    "\n",
    "            color = next(colors)\n",
    "            ax = fig.add_subplot(2*rows, 2*cols, 1 + 2*(col + row*cols))\n",
    "            ax.set_title(wavelet.name + \" phi\")\n",
    "            ax.plot(x, phi, color, lw=1)\n",
    "            ax.set_xlim(min(x), max(x))\n",
    "\n",
    "            ax = fig.add_subplot(2*rows, 2*cols, 2*(1 + col + row*cols))\n",
    "            ax.set_title(wavelet.name + \" psi\")\n",
    "            ax.plot(x, psi, color, lw=1)\n",
    "            ax.set_xlim(min(x), max(x))\n",
    "\n",
    "            row += 1\n",
    "            ax = fig.add_subplot(2*rows, 2*cols, 1 + 2*(col + row*cols))\n",
    "            ax.set_title(wavelet.name + \" phi_r\")\n",
    "            ax.plot(x, phi_r, color, lw=1)\n",
    "            ax.set_xlim(min(x), max(x))\n",
    "\n",
    "            ax = fig.add_subplot(2*rows, 2*cols, 1 + 2*(col + row*cols) + 1)\n",
    "            ax.set_title(wavelet.name + \" psi_r\")\n",
    "            ax.plot(x, psi_r, color, lw=1)\n",
    "            ax.set_xlim(min(x), max(x))\n",
    "    sns.despine()\n",
    "\n",
    "plt.show()"
   ]
  },
  {
   "cell_type": "markdown",
   "metadata": {},
   "source": [
    "### Available Wavelet Families"
   ]
  },
  {
   "cell_type": "code",
   "execution_count": null,
   "metadata": {
    "ExecuteTime": {
     "end_time": "2021-04-15T19:43:51.395423Z",
     "start_time": "2021-04-15T19:43:51.392792Z"
    }
   },
   "outputs": [],
   "source": [
    "pywt.families(short=False)"
   ]
  },
  {
   "cell_type": "markdown",
   "metadata": {},
   "source": [
    "### Smoothing the S&P 500"
   ]
  },
  {
   "cell_type": "code",
   "execution_count": null,
   "metadata": {
    "ExecuteTime": {
     "end_time": "2021-04-15T19:43:51.835624Z",
     "start_time": "2021-04-15T19:43:51.396253Z"
    },
    "tags": []
   },
   "outputs": [],
   "source": [
    "signal = (pd.read_hdf(DATA_STORE, 'sp500/stooq')\n",
    "          .loc['2008': '2009']\n",
    "          .close.pct_change()\n",
    "          .dropna())\n",
    "\n",
    "fig, axes = plt.subplots(ncols=2, figsize=(14, 5))\n",
    "\n",
    "wavelet = \"db6\"\n",
    "for i, scale in enumerate([.1, .5]):\n",
    "    \n",
    "    coefficients = pywt.wavedec(signal, wavelet, mode='per')\n",
    "    coefficients[1:] = [pywt.threshold(i, value=scale*signal.max(), mode='soft') for i in coefficients[1:]]\n",
    "    reconstructed_signal = pywt.waverec(coefficients, wavelet, mode='per')\n",
    "    signal.plot(color=\"b\", alpha=0.5, label='original signal', lw=2, \n",
    "                 title=f'Threshold Scale: {scale:.1f}', ax=axes[i])\n",
    "    pd.Series(reconstructed_signal, index=signal.index).plot(c='k', label='DWT smoothing}', linewidth=1, ax=axes[i])\n",
    "    axes[i].legend()\n",
    "fig.tight_layout()\n",
    "sns.despine();"
   ]
  }
 ],
 "metadata": {
  "kernelspec": {
   "display_name": "Python 3 (ipykernel)",
   "language": "python",
   "name": "python3"
  },
  "language_info": {
   "codemirror_mode": {
    "name": "ipython",
    "version": 3
   },
   "file_extension": ".py",
   "mimetype": "text/x-python",
   "name": "python",
   "nbconvert_exporter": "python",
   "pygments_lexer": "ipython3",
   "version": "3.10.9"
  },
  "toc": {
   "base_numbering": 1,
   "nav_menu": {},
   "number_sections": true,
   "sideBar": true,
   "skip_h1_title": true,
   "title_cell": "Table of Contents",
   "title_sidebar": "Contents",
   "toc_cell": false,
   "toc_position": {
    "height": "calc(100% - 180px)",
    "left": "10px",
    "top": "150px",
    "width": "230.355px"
   },
   "toc_section_display": true,
   "toc_window_display": true
  }
 },
 "nbformat": 4,
 "nbformat_minor": 4
}
